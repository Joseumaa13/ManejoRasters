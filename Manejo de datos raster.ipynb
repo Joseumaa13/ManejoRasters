{
 "cells": [
  {
   "cell_type": "markdown",
   "id": "4c5509c7",
   "metadata": {},
   "source": [
    "## Acceso a recursos STAC"
   ]
  },
  {
   "cell_type": "code",
   "execution_count": 1,
   "id": "8cb35247",
   "metadata": {},
   "outputs": [],
   "source": [
    "# Carga de pystac_client, para acceder datos en STAC\n",
    "from pystac_client import Client"
   ]
  },
  {
   "cell_type": "markdown",
   "id": "57b07209",
   "metadata": {},
   "source": [
    "[Catálogos STAC](https://radiantearth.github.io/stac-browser/#/)"
   ]
  },
  {
   "cell_type": "markdown",
   "id": "0e333385",
   "metadata": {},
   "source": [
    "#### Se accede el API de Earth Search, el cual proporciona acceso a conjuntos de datos públicos en Amazon Web Services (AWS).\n",
    "\n",
    "La función Client.open() retorna un objeto tipo Client, el cual se utiliza para acceder el API (ej. realizar búsquedas)."
   ]
  },
  {
   "cell_type": "code",
   "execution_count": 2,
   "id": "56c6d6ce",
   "metadata": {},
   "outputs": [],
   "source": [
    "# URL del API STAC\n",
    "## el v0 es la versión final del api\n",
    "api_url = \"https://earth-search.aws.element84.com/v0\"\n",
    "\n",
    "# Cliente para acceso a los datos\n",
    "## permite realizar búsquedas/consultas\n",
    "client = Client.open(api_url)"
   ]
  },
  {
   "cell_type": "code",
   "execution_count": 3,
   "id": "810908d1",
   "metadata": {},
   "outputs": [],
   "source": [
    "# Se accede a una colección \n",
    "## definir coleccion, se pueden tener varias\n",
    "collection = \"sentinel-s2-l2a-cogs\""
   ]
  },
  {
   "cell_type": "code",
   "execution_count": 4,
   "id": "a6f4d363",
   "metadata": {},
   "outputs": [],
   "source": [
    "## Buscar imagenes (sea por tiempo, año)\n",
    "# Punto para búsqueda\n",
    "from shapely.geometry import Point\n",
    "point = Point(-84, 10)"
   ]
  },
  {
   "cell_type": "code",
   "execution_count": 5,
   "id": "2bbbb1b6",
   "metadata": {},
   "outputs": [],
   "source": [
    "# Búsqueda de items (imágenes) que contienen el punto\n",
    "## criterio collections (busca el de sentinel arriba se definió)\n",
    "search = client.search(collections=[collection],\n",
    "                       intersects=point, ## centro del país\n",
    "                       max_items=10, ## cuantas imaganes como máx\n",
    ")"
   ]
  },
  {
   "cell_type": "code",
   "execution_count": 6,
   "id": "51c84eec",
   "metadata": {},
   "outputs": [
    {
     "data": {
      "text/plain": [
       "367"
      ]
     },
     "execution_count": 6,
     "metadata": {},
     "output_type": "execute_result"
    }
   ],
   "source": [
    "# Cantidad total de items que retorna la búsqueda\n",
    "search.matched()"
   ]
  },
  {
   "cell_type": "code",
   "execution_count": 9,
   "id": "899363c8",
   "metadata": {
    "scrolled": true
   },
   "outputs": [
    {
     "data": {
      "text/plain": [
       "10"
      ]
     },
     "execution_count": 9,
     "metadata": {},
     "output_type": "execute_result"
    }
   ],
   "source": [
    "# Items retornados\n",
    "## Con esto se retornan las imagenes que se solicitaron\n",
    "items = search.get_all_items()\n",
    "\n",
    "len(items)"
   ]
  },
  {
   "cell_type": "code",
   "execution_count": 10,
   "id": "af349924",
   "metadata": {},
   "outputs": [
    {
     "name": "stdout",
     "output_type": "stream",
     "text": [
      "<Item id=S2B_16PHS_20221111_0_L2A>\n",
      "<Item id=S2A_16PHS_20221106_0_L2A>\n",
      "<Item id=S2B_16PHS_20221101_0_L2A>\n",
      "<Item id=S2A_16PHS_20221027_0_L2A>\n",
      "<Item id=S2B_16PHS_20221022_0_L2A>\n",
      "<Item id=S2A_16PHS_20221017_0_L2A>\n",
      "<Item id=S2B_16PHS_20221012_0_L2A>\n",
      "<Item id=S2A_16PHS_20221007_0_L2A>\n",
      "<Item id=S2B_16PHS_20221002_0_L2A>\n",
      "<Item id=S2A_16PHS_20220927_0_L2A>\n"
     ]
    }
   ],
   "source": [
    "# Identificadores de los items retornados\n",
    "for item in items: \n",
    "    print(item)\n",
    "    "
   ]
  },
  {
   "cell_type": "code",
   "execution_count": 13,
   "id": "db4e1d7f",
   "metadata": {},
   "outputs": [
    {
     "data": {
      "text/plain": [
       "'S2B_16PHS_20221111_0_L2A'"
      ]
     },
     "execution_count": 13,
     "metadata": {},
     "output_type": "execute_result"
    }
   ],
   "source": [
    "# Primer item (imagen) retornado\n",
    "item = items[0]\n",
    "\n",
    "item.id"
   ]
  },
  {
   "cell_type": "code",
   "execution_count": 14,
   "id": "822f3b64",
   "metadata": {},
   "outputs": [
    {
     "data": {
      "text/plain": [
       "datetime.datetime(2022, 11, 11, 16, 10, 31, tzinfo=tzutc())"
      ]
     },
     "execution_count": 14,
     "metadata": {},
     "output_type": "execute_result"
    }
   ],
   "source": [
    "item.datetime"
   ]
  },
  {
   "cell_type": "code",
   "execution_count": 16,
   "id": "74b48200",
   "metadata": {},
   "outputs": [
    {
     "name": "stdout",
     "output_type": "stream",
     "text": [
      "2022-11-11 16:10:31+00:00\n"
     ]
    }
   ],
   "source": [
    "print(item.datetime)"
   ]
  },
  {
   "cell_type": "code",
   "execution_count": 17,
   "id": "5be25563",
   "metadata": {},
   "outputs": [
    {
     "name": "stdout",
     "output_type": "stream",
     "text": [
      "{'type': 'Polygon', 'coordinates': [[[-83.26529071959975, 9.841749072035094], [-84.26505426889273, 9.85133238997552], [-84.2564449365329, 10.843245515578994], [-83.25354975084628, 10.83267581874028], [-83.26529071959975, 9.841749072035094]]]}\n"
     ]
    }
   ],
   "source": [
    "print(item.geometry)"
   ]
  },
  {
   "cell_type": "code",
   "execution_count": 19,
   "id": "b3221d91",
   "metadata": {},
   "outputs": [
    {
     "name": "stdout",
     "output_type": "stream",
     "text": [
      "{'datetime': '2022-11-11T16:10:31Z', 'platform': 'sentinel-2b', 'constellation': 'sentinel-2', 'instruments': ['msi'], 'gsd': 10, 'view:off_nadir': 0, 'proj:epsg': 32616, 'sentinel:utm_zone': 16, 'sentinel:latitude_band': 'P', 'sentinel:grid_square': 'HS', 'sentinel:sequence': '0', 'sentinel:product_id': 'S2B_MSIL2A_20221111T160509_N0400_R054_T16PHS_20221111T194657', 'sentinel:data_coverage': 100, 'eo:cloud_cover': 40.09, 'sentinel:valid_cloud_cover': True, 'sentinel:processing_baseline': '04.00', 'sentinel:boa_offset_applied': True, 'created': '2022-11-12T05:15:06.166Z', 'updated': '2022-11-12T05:15:06.166Z'}\n"
     ]
    }
   ],
   "source": [
    "print(item.properties) \n",
    "## cuando el cloud_cover está en 0, algo dio error, debe estar en true"
   ]
  },
  {
   "cell_type": "markdown",
   "id": "ed606758",
   "metadata": {},
   "source": [
    "Ahora, se realiza la búsqueda con base en un rectángulo delimitador (bounding box) generado a partir del punto que se definió anteriormente."
   ]
  },
  {
   "cell_type": "code",
   "execution_count": 22,
   "id": "ed9b3750",
   "metadata": {},
   "outputs": [
    {
     "data": {
      "text/plain": [
       "(-84.01, 9.99, -83.99, 10.01)"
      ]
     },
     "execution_count": 22,
     "metadata": {},
     "output_type": "execute_result"
    }
   ],
   "source": [
    "# Rectángulo para búsquedas\n",
    "bbox = point.buffer(0.01).bounds \n",
    "bbox"
   ]
  },
  {
   "cell_type": "code",
   "execution_count": 24,
   "id": "c140e27a",
   "metadata": {},
   "outputs": [
    {
     "data": {
      "text/plain": [
       "5"
      ]
     },
     "execution_count": 24,
     "metadata": {},
     "output_type": "execute_result"
    }
   ],
   "source": [
    "# Búsqueda con nuevos criterios\n",
    "## # También se restringe la búsqueda para retornar solo aquellas imágenes con cobertura de nubes menor al 10%\n",
    "search = client.search(collections=[collection],\n",
    "                       bbox=bbox,\n",
    "                       datetime=\"2022-01-01/2022-10-30\",\n",
    "                       query=[\"eo:cloud_cover<10\"]) # no deben haber espacios alrededor del '<'\n",
    "\n",
    "# Cantidad total de items que retorna la búsqueda\n",
    "search.matched()"
   ]
  },
  {
   "cell_type": "code",
   "execution_count": 25,
   "id": "d1adb986",
   "metadata": {},
   "outputs": [
    {
     "data": {
      "text/plain": [
       "5"
      ]
     },
     "execution_count": 25,
     "metadata": {},
     "output_type": "execute_result"
    }
   ],
   "source": [
    "# Items retornados\n",
    "items = search.get_all_items()\n",
    "\n",
    "len(items)"
   ]
  },
  {
   "cell_type": "code",
   "execution_count": 26,
   "id": "e796ba4a",
   "metadata": {},
   "outputs": [
    {
     "name": "stdout",
     "output_type": "stream",
     "text": [
      "2022-06-04 16:10:32+00:00\n",
      "{'datetime': '2022-06-04T16:10:32Z', 'platform': 'sentinel-2b', 'constellation': 'sentinel-2', 'instruments': ['msi'], 'gsd': 10, 'view:off_nadir': 0, 'proj:epsg': 32616, 'sentinel:utm_zone': 16, 'sentinel:latitude_band': 'P', 'sentinel:grid_square': 'HS', 'sentinel:sequence': '0', 'sentinel:product_id': 'S2B_MSIL2A_20220604T160509_N0400_R054_T16PHS_20220604T202130', 'sentinel:data_coverage': 100, 'eo:cloud_cover': 5.33, 'sentinel:valid_cloud_cover': True, 'sentinel:processing_baseline': '04.00', 'sentinel:boa_offset_applied': True, 'created': '2022-06-05T01:47:01.875Z', 'updated': '2022-06-05T01:47:01.875Z'}\n"
     ]
    }
   ],
   "source": [
    "# Segundo item retornado y algunos de sus atributos\n",
    "item = items[1]\n",
    "\n",
    "print(item.datetime)\n",
    "print(item.properties)"
   ]
  },
  {
   "cell_type": "markdown",
   "id": "24b97a8b",
   "metadata": {},
   "source": [
    "Pendiente realizar ejercicio"
   ]
  },
  {
   "cell_type": "markdown",
   "id": "390473cf",
   "metadata": {},
   "source": [
    "# ASSETS"
   ]
  },
  {
   "cell_type": "code",
   "execution_count": 27,
   "id": "7edddeb3",
   "metadata": {},
   "outputs": [
    {
     "data": {
      "text/plain": [
       "dict_keys(['thumbnail', 'overview', 'info', 'metadata', 'visual', 'B01', 'B02', 'B03', 'B04', 'B05', 'B06', 'B07', 'B08', 'B8A', 'B09', 'B11', 'B12', 'AOT', 'WVP', 'SCL'])"
      ]
     },
     "execution_count": 27,
     "metadata": {},
     "output_type": "execute_result"
    }
   ],
   "source": [
    "# Activos (assets) del item\n",
    "assets = item.assets\n",
    "\n",
    "# Llaves\n",
    "assets.keys()"
   ]
  },
  {
   "cell_type": "code",
   "execution_count": 28,
   "id": "6f502396",
   "metadata": {},
   "outputs": [
    {
     "data": {
      "text/plain": [
       "dict_items([('thumbnail', <Asset href=https://roda.sentinel-hub.com/sentinel-s2-l1c/tiles/16/P/HS/2022/6/4/0/preview.jpg>), ('overview', <Asset href=https://sentinel-cogs.s3.us-west-2.amazonaws.com/sentinel-s2-l2a-cogs/16/P/HS/2022/6/S2B_16PHS_20220604_0_L2A/L2A_PVI.tif>), ('info', <Asset href=https://roda.sentinel-hub.com/sentinel-s2-l2a/tiles/16/P/HS/2022/6/4/0/tileInfo.json>), ('metadata', <Asset href=https://roda.sentinel-hub.com/sentinel-s2-l2a/tiles/16/P/HS/2022/6/4/0/metadata.xml>), ('visual', <Asset href=https://sentinel-cogs.s3.us-west-2.amazonaws.com/sentinel-s2-l2a-cogs/16/P/HS/2022/6/S2B_16PHS_20220604_0_L2A/TCI.tif>), ('B01', <Asset href=https://sentinel-cogs.s3.us-west-2.amazonaws.com/sentinel-s2-l2a-cogs/16/P/HS/2022/6/S2B_16PHS_20220604_0_L2A/B01.tif>), ('B02', <Asset href=https://sentinel-cogs.s3.us-west-2.amazonaws.com/sentinel-s2-l2a-cogs/16/P/HS/2022/6/S2B_16PHS_20220604_0_L2A/B02.tif>), ('B03', <Asset href=https://sentinel-cogs.s3.us-west-2.amazonaws.com/sentinel-s2-l2a-cogs/16/P/HS/2022/6/S2B_16PHS_20220604_0_L2A/B03.tif>), ('B04', <Asset href=https://sentinel-cogs.s3.us-west-2.amazonaws.com/sentinel-s2-l2a-cogs/16/P/HS/2022/6/S2B_16PHS_20220604_0_L2A/B04.tif>), ('B05', <Asset href=https://sentinel-cogs.s3.us-west-2.amazonaws.com/sentinel-s2-l2a-cogs/16/P/HS/2022/6/S2B_16PHS_20220604_0_L2A/B05.tif>), ('B06', <Asset href=https://sentinel-cogs.s3.us-west-2.amazonaws.com/sentinel-s2-l2a-cogs/16/P/HS/2022/6/S2B_16PHS_20220604_0_L2A/B06.tif>), ('B07', <Asset href=https://sentinel-cogs.s3.us-west-2.amazonaws.com/sentinel-s2-l2a-cogs/16/P/HS/2022/6/S2B_16PHS_20220604_0_L2A/B07.tif>), ('B08', <Asset href=https://sentinel-cogs.s3.us-west-2.amazonaws.com/sentinel-s2-l2a-cogs/16/P/HS/2022/6/S2B_16PHS_20220604_0_L2A/B08.tif>), ('B8A', <Asset href=https://sentinel-cogs.s3.us-west-2.amazonaws.com/sentinel-s2-l2a-cogs/16/P/HS/2022/6/S2B_16PHS_20220604_0_L2A/B8A.tif>), ('B09', <Asset href=https://sentinel-cogs.s3.us-west-2.amazonaws.com/sentinel-s2-l2a-cogs/16/P/HS/2022/6/S2B_16PHS_20220604_0_L2A/B09.tif>), ('B11', <Asset href=https://sentinel-cogs.s3.us-west-2.amazonaws.com/sentinel-s2-l2a-cogs/16/P/HS/2022/6/S2B_16PHS_20220604_0_L2A/B11.tif>), ('B12', <Asset href=https://sentinel-cogs.s3.us-west-2.amazonaws.com/sentinel-s2-l2a-cogs/16/P/HS/2022/6/S2B_16PHS_20220604_0_L2A/B12.tif>), ('AOT', <Asset href=https://sentinel-cogs.s3.us-west-2.amazonaws.com/sentinel-s2-l2a-cogs/16/P/HS/2022/6/S2B_16PHS_20220604_0_L2A/AOT.tif>), ('WVP', <Asset href=https://sentinel-cogs.s3.us-west-2.amazonaws.com/sentinel-s2-l2a-cogs/16/P/HS/2022/6/S2B_16PHS_20220604_0_L2A/WVP.tif>), ('SCL', <Asset href=https://sentinel-cogs.s3.us-west-2.amazonaws.com/sentinel-s2-l2a-cogs/16/P/HS/2022/6/S2B_16PHS_20220604_0_L2A/SCL.tif>)])"
      ]
     },
     "execution_count": 28,
     "metadata": {},
     "output_type": "execute_result"
    }
   ],
   "source": [
    "# Contenido completo de los items\n",
    "assets.items()"
   ]
  },
  {
   "cell_type": "code",
   "execution_count": 29,
   "id": "9d5824ed",
   "metadata": {},
   "outputs": [
    {
     "name": "stdout",
     "output_type": "stream",
     "text": [
      "thumbnail: Thumbnail\n",
      "overview: True color image\n",
      "info: Original JSON metadata\n",
      "metadata: Original XML metadata\n",
      "visual: True color image\n",
      "B01: Band 1 (coastal)\n",
      "B02: Band 2 (blue)\n",
      "B03: Band 3 (green)\n",
      "B04: Band 4 (red)\n",
      "B05: Band 5\n",
      "B06: Band 6\n",
      "B07: Band 7\n",
      "B08: Band 8 (nir)\n",
      "B8A: Band 8A\n",
      "B09: Band 9\n",
      "B11: Band 11 (swir16)\n",
      "B12: Band 12 (swir22)\n",
      "AOT: Aerosol Optical Thickness (AOT)\n",
      "WVP: Water Vapour (WVP)\n",
      "SCL: Scene Classification Map (SCL)\n"
     ]
    }
   ],
   "source": [
    "# Nombres de los activos\n",
    "for key, asset in assets.items():\n",
    "    print(f\"{key}: {asset.title}\")"
   ]
  }
 ],
 "metadata": {
  "kernelspec": {
   "display_name": "Python 3 (ipykernel)",
   "language": "python",
   "name": "python3"
  },
  "language_info": {
   "codemirror_mode": {
    "name": "ipython",
    "version": 3
   },
   "file_extension": ".py",
   "mimetype": "text/x-python",
   "name": "python",
   "nbconvert_exporter": "python",
   "pygments_lexer": "ipython3",
   "version": "3.9.13"
  }
 },
 "nbformat": 4,
 "nbformat_minor": 5
}
